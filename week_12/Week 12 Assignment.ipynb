{
 "cells": [
  {
   "cell_type": "code",
   "execution_count": 1,
   "id": "42be2c44-c85d-4a4d-836c-7cd6e1a92a46",
   "metadata": {},
   "outputs": [],
   "source": [
    "import pandas as pd\n",
    "import numpy as np\n",
    "import tensorflow as tf\n",
    "import time\n",
    "from tensorflow.keras.models import Sequential\n",
    "from tensorflow.keras.layers import Dense\n",
    "from sklearn.model_selection import train_test_split\n",
    "from sklearn.preprocessing import StandardScaler\n",
    "\n",
    "# Disabling TensorFlow warnings\n",
    "import os\n",
    "os.environ['TF_CPP_MIN_LOG_LEVEL'] = '3'\n",
    "\n",
    "# Function to train and evaluate the model\n",
    "def train_model(file_path, num_hidden_layers=1):\n",
    "    # Load dataset\n",
    "    data = pd.read_csv(file_path)\n",
    "    X = data.drop(columns=['outcome']).values\n",
    "    y = data['outcome'].values\n",
    "\n",
    "    # Normalizing input features\n",
    "    scaler = StandardScaler()\n",
    "    X_scaled = scaler.fit_transform(X)\n",
    "\n",
    "    # Splitting into training and validation sets\n",
    "    X_train, X_val, y_train, y_val = train_test_split(X_scaled, y, test_size=0.2, random_state=42)\n",
    "\n",
    "    # Defining the model\n",
    "    model = Sequential()\n",
    "    model.add(Dense(4, input_shape=(X.shape[1],), activation='relu'))\n",
    "\n",
    "    if num_hidden_layers == 2:\n",
    "        model.add(Dense(4, activation='relu'))\n",
    "\n",
    "    model.add(Dense(1, activation='sigmoid'))\n",
    "\n",
    "    model.compile(optimizer='adam', loss='binary_crossentropy', metrics=['accuracy'])\n",
    "\n",
    "    # Tracking the time\n",
    "    start_time = time.time()\n",
    "    history = model.fit(X_train, y_train,\n",
    "                        epochs=10,\n",
    "                        batch_size=32,\n",
    "                        verbose=0,\n",
    "                        validation_data=(X_val, y_val))\n",
    "    end_time = time.time()\n",
    "\n",
    "    # Collecting the final metrics\n",
    "    train_error = history.history['loss'][-1]\n",
    "    val_error = history.history['val_loss'][-1]\n",
    "    duration = round(end_time - start_time, 2)\n",
    "\n",
    "    return train_error, val_error, duration\n"
   ]
  },
  {
   "cell_type": "code",
   "execution_count": 2,
   "id": "3bfdc17a-763f-42ea-9421-d98ea521f4c0",
   "metadata": {},
   "outputs": [
    {
     "name": "stdout",
     "output_type": "stream",
     "text": [
      "Training on 1000 rows, 1 hidden layer(s)...\n"
     ]
    },
    {
     "name": "stderr",
     "output_type": "stream",
     "text": [
      "C:\\Users\\asutar1\\AppData\\Local\\anaconda3\\Lib\\site-packages\\keras\\src\\layers\\core\\dense.py:87: UserWarning: Do not pass an `input_shape`/`input_dim` argument to a layer. When using Sequential models, prefer using an `Input(shape)` object as the first layer in the model instead.\n",
      "  super().__init__(activity_regularizer=activity_regularizer, **kwargs)\n"
     ]
    },
    {
     "name": "stdout",
     "output_type": "stream",
     "text": [
      "Training on 1000 rows, 2 hidden layer(s)...\n"
     ]
    },
    {
     "name": "stderr",
     "output_type": "stream",
     "text": [
      "C:\\Users\\asutar1\\AppData\\Local\\anaconda3\\Lib\\site-packages\\keras\\src\\layers\\core\\dense.py:87: UserWarning: Do not pass an `input_shape`/`input_dim` argument to a layer. When using Sequential models, prefer using an `Input(shape)` object as the first layer in the model instead.\n",
      "  super().__init__(activity_regularizer=activity_regularizer, **kwargs)\n"
     ]
    },
    {
     "name": "stdout",
     "output_type": "stream",
     "text": [
      "Training on 10000 rows, 1 hidden layer(s)...\n"
     ]
    },
    {
     "name": "stderr",
     "output_type": "stream",
     "text": [
      "C:\\Users\\asutar1\\AppData\\Local\\anaconda3\\Lib\\site-packages\\keras\\src\\layers\\core\\dense.py:87: UserWarning: Do not pass an `input_shape`/`input_dim` argument to a layer. When using Sequential models, prefer using an `Input(shape)` object as the first layer in the model instead.\n",
      "  super().__init__(activity_regularizer=activity_regularizer, **kwargs)\n"
     ]
    },
    {
     "name": "stdout",
     "output_type": "stream",
     "text": [
      "Training on 10000 rows, 2 hidden layer(s)...\n"
     ]
    },
    {
     "name": "stderr",
     "output_type": "stream",
     "text": [
      "C:\\Users\\asutar1\\AppData\\Local\\anaconda3\\Lib\\site-packages\\keras\\src\\layers\\core\\dense.py:87: UserWarning: Do not pass an `input_shape`/`input_dim` argument to a layer. When using Sequential models, prefer using an `Input(shape)` object as the first layer in the model instead.\n",
      "  super().__init__(activity_regularizer=activity_regularizer, **kwargs)\n"
     ]
    },
    {
     "name": "stdout",
     "output_type": "stream",
     "text": [
      "Training on 100000 rows, 1 hidden layer(s)...\n"
     ]
    },
    {
     "name": "stderr",
     "output_type": "stream",
     "text": [
      "C:\\Users\\asutar1\\AppData\\Local\\anaconda3\\Lib\\site-packages\\keras\\src\\layers\\core\\dense.py:87: UserWarning: Do not pass an `input_shape`/`input_dim` argument to a layer. When using Sequential models, prefer using an `Input(shape)` object as the first layer in the model instead.\n",
      "  super().__init__(activity_regularizer=activity_regularizer, **kwargs)\n"
     ]
    },
    {
     "name": "stdout",
     "output_type": "stream",
     "text": [
      "Training on 100000 rows, 2 hidden layer(s)...\n"
     ]
    },
    {
     "name": "stderr",
     "output_type": "stream",
     "text": [
      "C:\\Users\\asutar1\\AppData\\Local\\anaconda3\\Lib\\site-packages\\keras\\src\\layers\\core\\dense.py:87: UserWarning: Do not pass an `input_shape`/`input_dim` argument to a layer. When using Sequential models, prefer using an `Input(shape)` object as the first layer in the model instead.\n",
      "  super().__init__(activity_regularizer=activity_regularizer, **kwargs)\n"
     ]
    },
    {
     "name": "stdout",
     "output_type": "stream",
     "text": [
      "\n",
      "==== Final Summary ====\n",
      "\n",
      " Data Size              Configuration  Training Error  Validation Error  Time (sec)\n",
      "      1000 1 hidden layer(s), 4 nodes          0.5136            0.5098        2.09\n",
      "      1000 2 hidden layer(s), 4 nodes          0.4695            0.4583        2.19\n",
      "     10000 1 hidden layer(s), 4 nodes          0.0730            0.0699        4.90\n",
      "     10000 2 hidden layer(s), 4 nodes          0.0242            0.0244        5.20\n",
      "    100000 1 hidden layer(s), 4 nodes          0.0111            0.0104       33.07\n",
      "    100000 2 hidden layer(s), 4 nodes          0.0060            0.0065       44.71\n"
     ]
    }
   ],
   "source": [
    "# File mapping\n",
    "datasets = {\n",
    "    1000: \"synthetic_logistic_data_1000.csv\",\n",
    "    10000: \"synthetic_logistic_data_10000.csv\",\n",
    "    100000: \"synthetic_logistic_data_100000.csv\"\n",
    "}\n",
    "\n",
    "# Store results\n",
    "results = []\n",
    "\n",
    "# Loop over datasets and configurations\n",
    "for size, file_path in datasets.items():\n",
    "    for layers in [1, 2]:\n",
    "        print(f\"Training on {size} rows, {layers} hidden layer(s)...\")\n",
    "        train_err, val_err, exec_time = train_model(file_path, num_hidden_layers=layers)\n",
    "        results.append({\n",
    "            \"Data Size\": size,\n",
    "            \"Configuration\": f\"{layers} hidden layer(s), 4 nodes\",\n",
    "            \"Training Error\": round(train_err, 4),\n",
    "            \"Validation Error\": round(val_err, 4),\n",
    "            \"Time (sec)\": exec_time\n",
    "        })\n",
    "\n",
    "# Display results\n",
    "results_df = pd.DataFrame(results)\n",
    "print(\"\\n==== Final Summary ====\\n\")\n",
    "print(results_df.to_string(index=False))\n"
   ]
  },
  {
   "cell_type": "code",
   "execution_count": null,
   "id": "b663264c-5d19-4811-b175-95846b84de38",
   "metadata": {},
   "outputs": [],
   "source": []
  }
 ],
 "metadata": {
  "kernelspec": {
   "display_name": "Python 3 (ipykernel)",
   "language": "python",
   "name": "python3"
  },
  "language_info": {
   "codemirror_mode": {
    "name": "ipython",
    "version": 3
   },
   "file_extension": ".py",
   "mimetype": "text/x-python",
   "name": "python",
   "nbconvert_exporter": "python",
   "pygments_lexer": "ipython3",
   "version": "3.12.7"
  }
 },
 "nbformat": 4,
 "nbformat_minor": 5
}
